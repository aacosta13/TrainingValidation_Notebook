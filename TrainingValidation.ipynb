{
  "nbformat": 4,
  "nbformat_minor": 0,
  "metadata": {
    "colab": {
      "name": "Project2_CPSC483-01.ipynb",
      "provenance": [],
      "collapsed_sections": [],
      "toc_visible": true
    },
    "kernelspec": {
      "name": "python3",
      "display_name": "Python 3"
    }
  },
  "cells": [
    {
      "cell_type": "markdown",
      "metadata": {
        "id": "264_B0OFfRAA"
      },
      "source": [
        "# Project 2 README.md\n",
        "###### By: Armando Acosta\n",
        "\n",
        "Summary: This project uses NumPy to practice using vectors along with linear and polynomial regression models to compare each model's performance with given training sets.\n"
      ]
    },
    {
      "cell_type": "markdown",
      "metadata": {
        "id": "-1TBY_Vzhwkn"
      },
      "source": [
        "#### 1. We begin by importing our necessary libraries/frameworks and loading the dataset with NumPy's `load()` method, allowing us to manipulate the data as needed."
      ]
    },
    {
      "cell_type": "code",
      "metadata": {
        "id": "K_h96dGpfBDS"
      },
      "source": [
        "import numpy as np\n",
        "import matplotlib.pyplot as plt\n",
        "\n",
        "data = np.load('boston.npz')\n"
      ],
      "execution_count": 970,
      "outputs": []
    },
    {
      "cell_type": "markdown",
      "metadata": {
        "id": "o8TI3e9voHlj"
      },
      "source": [
        "#### 2. We are now going to set aside the first 102 items (20%) to represent as our validation set, leaving the remaining 404 items as our training set.\n",
        "\n",
        "**NOTE:** We will be separating the data into arrays depending on the file it comes from i.e. features stats (CRIM, ZN, INDUS, etc) in one array and target (MEDV) in another\n"
      ]
    },
    {
      "cell_type": "code",
      "metadata": {
        "id": "wkEJoUa8q9vI"
      },
      "source": [
        "# Split the array into the proportions we need, in this case the first 102 items\n",
        "validationFeatures = np.split(data['features'], [0, 102])\n",
        "validationTarget = np.split(data['target'], [0, 102])\n",
        "validationFeatures = validationFeatures[1]\n",
        "validationTarget = validationTarget[1]\n",
        "\n",
        "# Now split the remaining 404 items into their own arrays\n",
        "trainingFeatures = np.split(data['features'], [102, 506])\n",
        "trainingTarget = np.split(data['target'], [102, 506])\n",
        "trainingFeatures = trainingFeatures[1]\n",
        "trainingTarget = trainingTarget[1]\n"
      ],
      "execution_count": 971,
      "outputs": []
    },
    {
      "cell_type": "markdown",
      "metadata": {
        "id": "l9NsVDm2PDYL"
      },
      "source": [
        "#### 3. We can now visualize the relationship between the number of rooms per dwelling against the median value of homes from the training data. We will also determine whether the relationship appears visually linear. This will be done using the `matplotlib.pyplot` framework."
      ]
    },
    {
      "cell_type": "code",
      "metadata": {
        "colab": {
          "base_uri": "https://localhost:8080/",
          "height": 301
        },
        "id": "BcMgucyBP_nY",
        "outputId": "e771b1e7-b420-4349-f408-feac268746d6"
      },
      "source": [
        "# Split the validation data vertically to get just the RM (room) data\n",
        "trainingRoomsData = np.hsplit(trainingFeatures, np.array([5, 6]))\n",
        "trainingRoomsData = trainingRoomsData[1]\n",
        "\n",
        "plt.scatter(trainingRoomsData, trainingTarget)\n",
        "plt.xlabel(\"Average number of rooms per dwelling\")\n",
        "plt.ylabel(\"Median value of owner-occupied homes (per $1000)\")\n",
        "plt.grid(True)\n",
        "\n",
        "plt.show()\n"
      ],
      "execution_count": 972,
      "outputs": [
        {
          "output_type": "display_data",
          "data": {
            "image/png": "[encoded data removed]",
            "text/plain": [
              "<Figure size 432x288 with 1 Axes>"
            ]
          },
          "metadata": {
            "tags": [],
            "needs_background": "light"
          }
        }
      ]
    },
    {
      "cell_type": "markdown",
      "metadata": {
        "id": "l2xLqJz3ufn6"
      },
      "source": [
        "After plotting our graph, we see a few discernible patterns, however the most apparent is that this scatterplot leads to a nearly linear pattern for the data set. Especially from the cluster of points at 6 rooms and up, the data tends to trend upward.\n",
        "\n",
        "---\n",
        "#### 4. Now, we want to compute our $w$ which refers to the parameters of our model to help plot a least squares fit line for our data. We do this by using the room data (RM) as our $X$ values and the median data (MEDV) as our $t$. Therefore, the equation for MEDV as a linear function of RM can be represented as:\n",
        "\n",
        "$t_n = w_1x_{n1} + w_2x_{n2} + w_3x_{n3} + ...$\n",
        "\n",
        "$t = f(x;w_0, w_1) = w_0 + w_1x$\n",
        "\n",
        "This formula represents the standard equation for the line we will plot. However, we will want the least squares fit to try and get the best fit line that comes as close to as many points as possible. This means that we must figure out what the best parameter values for $w$ are. Given that our data is already in a matrix form, we can use the matrix equation to solve for w which is:\n",
        "\n",
        "$\\widehat{w} = (X^TX)^{-1}X^Tt$\n"
      ]
    },
    {
      "cell_type": "code",
      "metadata": {
        "colab": {
          "base_uri": "https://localhost:8080/"
        },
        "id": "knYu5mHG1Qf0",
        "outputId": "2f17d7bd-21e8-4aab-a516-f287290051a3"
      },
      "source": [
        "# Create matrix of ones to be stacked on matrix for X for proper calculation\n",
        "onesMatrix = np.ones_like(trainingRoomsData)\n",
        "trainingRoomsMatrix = np.hstack((onesMatrix, trainingRoomsData))\n",
        "\n",
        "# Calculations for (X^T*X)^(-1)\n",
        "tRoomsTranspose = np.transpose(trainingRoomsMatrix)\n",
        "tRoomsMult = np.matmul(tRoomsTranspose, trainingRoomsMatrix)\n",
        "tRoomsMultInv = np.linalg.inv(tRoomsMult)\n",
        "\n",
        "# Calculations to multiply against X^T*t\n",
        "trainingTarget = np.vstack(trainingTarget)\n",
        "tRoomsInvTimesTranspose = np.matmul(tRoomsMultInv, tRoomsTranspose)\n",
        "w = np.matmul(tRoomsInvTimesTranspose, trainingTarget)\n",
        "\n",
        "print(w)\n"
      ],
      "execution_count": 973,
      "outputs": [
        {
          "output_type": "stream",
          "text": [
            "[[-34.12731481]\n",
            " [  9.03591206]]\n"
          ],
          "name": "stdout"
        }
      ]
    },
    {
      "cell_type": "markdown",
      "metadata": {
        "id": "RYwiuwZkuqAz"
      },
      "source": [
        "After our calculations, we get the matrix representing our $w$ values, with the following:\n",
        "\n",
        "$w_0 = -34.12731481$\n",
        "\n",
        "$w_1 = 9.03591206$\n",
        "\n",
        "And as mentioned, these values will help in determining the equation for MEDV as a linear function of RM.\n",
        "\n",
        "---\n",
        "#### 5. Now that we have our $w$ values, we will use our $w$ to plot out our least squares fit line to the previous scatterplot we created."
      ]
    },
    {
      "cell_type": "code",
      "metadata": {
        "colab": {
          "base_uri": "https://localhost:8080/",
          "height": 318
        },
        "id": "6Xs_sMtjv9Qn",
        "outputId": "5429decb-6fb1-4416-9276-73c29de20788"
      },
      "source": [
        "plt.scatter(trainingRoomsData, trainingTarget)\n",
        "plt.xlabel(\"Average number of rooms per dwelling\")\n",
        "plt.ylabel(\"Median value of owner-occupied homes (per $1000)\")\n",
        "plt.grid(True)\n",
        "\n",
        "axes = plt.gca()\n",
        "x_values = np.array(axes.get_xlim())\n",
        "y_values = w[0] + w[1]*x_values\n",
        "plt.plot(x_values, y_values, color='red')\n"
      ],
      "execution_count": 974,
      "outputs": [
        {
          "output_type": "execute_result",
          "data": {
            "text/plain": [
              "[<matplotlib.lines.Line2D at 0x7fb22f06a8d0>]"
            ]
          },
          "metadata": {
            "tags": []
          },
          "execution_count": 974
        },
        {
          "output_type": "display_data",
          "data": {
            "image/png": "[encoded data removed]",
            "text/plain": [
              "<Figure size 432x288 with 1 Axes>"
            ]
          },
          "metadata": {
            "tags": [],
            "needs_background": "light"
          }
        }
      ]
    },
    {
      "cell_type": "markdown",
      "metadata": {
        "id": "dg8bqd2l0VYK"
      },
      "source": [
        "Since we plotted our line using our $w$ values, we see that our calculations worked out to plot a least squares fit line against our scatterplot. Visually, the model fits well to represent the linear nature of the training set.\n",
        "\n",
        "---\n",
        "#### 6. We will now use our $w$ values to compute our predictions for every value of RM from the training data. This can be done by performing the formula:\n",
        "\n",
        "$t_{new} = \\widehat{w}^Tx_{new}$\n",
        "\n",
        "Where *new* simply refers to the new piece of data being introduced (in our case, we have all the data, so we will just go down the matrix and form our own prediction matrix).\n"
      ]
    },
    {
      "cell_type": "code",
      "metadata": {
        "id": "V3YO8_me_t1L"
      },
      "source": [
        "# Create as list to easily append values, then convert to matrix with np.asarray\n",
        "predictionMatrix = []\n",
        "\n",
        "for data in trainingRoomsData:\n",
        "  target = w[0] + w[1]*data\n",
        "  predictionMatrix.append(target)\n",
        "predictionMatrix = np.asarray(predictionMatrix)\n"
      ],
      "execution_count": 975,
      "outputs": []
    },
    {
      "cell_type": "markdown",
      "metadata": {
        "id": "nGAtBz5LWi-I"
      },
      "source": [
        "With our matrix of prediction values, we can compute the average loss ($\\mathcal{L}$) for this model. The formula we will be using is:\n",
        "\n",
        "$\\mathcal{L} = \\frac{1}{N}(t-Xw)^T(t-Xw)$\n",
        "\n",
        "\n",
        "$\\\\N$: Total number of data points\n",
        "\n",
        "$\\\\t$: Prediction matrix\n",
        "\n",
        "$\\\\X$: RM values matrix transposed with 1s\n",
        "\n",
        "$\\\\w$: Parameter matrix of the model\n"
      ]
    },
    {
      "cell_type": "code",
      "metadata": {
        "colab": {
          "base_uri": "https://localhost:8080/"
        },
        "id": "3W0GLPQ3YYhR",
        "outputId": "3da2e03f-81e5-4d04-94e3-10f3b76deee9"
      },
      "source": [
        "# First performing Xw, then t - Xw\n",
        "trainingRMMultParams = np.matmul(trainingRoomsMatrix, w)\n",
        "targetMinusTrainingRMParams = np.subtract(trainingTarget, trainingRMMultParams)\n",
        "\n",
        "# Then we multiply (t - Xw)^T and (t - Xw), finally dividing by 404\n",
        "trainingLoss = (np.matmul(np.transpose(targetMinusTrainingRMParams), targetMinusTrainingRMParams))/404\n",
        "\n",
        "print('Average loss for training set: ', float(trainingLoss))"
      ],
      "execution_count": 976,
      "outputs": [
        {
          "output_type": "stream",
          "text": [
            "Average loss for training set:  41.05654883138219\n"
          ],
          "name": "stdout"
        }
      ]
    },
    {
      "cell_type": "markdown",
      "metadata": {
        "id": "Ufvpu1AifUYo"
      },
      "source": [
        "Thus, our average loss when comparing our prediction and target values for the training set leads to approximately **41.057**.\n",
        "\n",
        "---\n",
        "#### 7. We are now going to repeat our work for the previous step, but apply it to our validation set of data instead. We will perform the work first, then discuss after all is finished.\n"
      ]
    },
    {
      "cell_type": "code",
      "metadata": {
        "colab": {
          "base_uri": "https://localhost:8080/"
        },
        "id": "BBXvauV5holI",
        "outputId": "28151f70-cb70-4902-f0db-2950421e2b34"
      },
      "source": [
        "# Set up our matrices for the validation data set\n",
        "validationRoomsData = np.hsplit(validationFeatures, np.array([5, 6]))\n",
        "validationRoomsData = validationRoomsData[1]\n",
        "onesMatrix = np.ones_like(validationRoomsData)\n",
        "validationRoomsMatrix = np.hstack((onesMatrix, validationRoomsData))\n",
        "\n",
        "# Calculate w for validation set\n",
        "vRoomsTranspose = np.transpose(validationRoomsMatrix)\n",
        "vRoomsMult = np.matmul(vRoomsTranspose, validationRoomsMatrix)\n",
        "vRoomsMultInv = np.linalg.inv(vRoomsMult)\n",
        "\n",
        "validationTarget = np.vstack(validationTarget)\n",
        "vRoomsInvTimesTranspose = np.matmul(vRoomsMultInv, vRoomsTranspose)\n",
        "validation_w = np.matmul(vRoomsInvTimesTranspose, validationTarget)\n",
        "\n",
        "# Perform experiment 6 on the validation data\n",
        "validationPredictMatrix = []\n",
        "for data in validationRoomsData:\n",
        "  item = validation_w[0] + validation_w[1]*data\n",
        "  validationPredictMatrix.append(item)\n",
        "validationPredictMatrix = np.asarray(validationPredictMatrix)\n",
        "\n",
        "# Now we predict our loss for the validation\n",
        "validationRMMultParams = np.matmul(validationRoomsMatrix, validation_w)\n",
        "vTargetMinusTrainingRMParams = np.subtract(validationTarget, validationRMMultParams)\n",
        "validationLoss = (np.matmul(np.transpose(vTargetMinusTrainingRMParams), vTargetMinusTrainingRMParams))/102\n",
        "\n",
        "print('Average loss for validation set: ', float(validationLoss))\n"
      ],
      "execution_count": 977,
      "outputs": [
        {
          "output_type": "stream",
          "text": [
            "Average loss for validation set:  53.30625794995984\n"
          ],
          "name": "stdout"
        }
      ]
    },
    {
      "cell_type": "markdown",
      "metadata": {
        "id": "ddcH6VAy9xIB"
      },
      "source": [
        "With the calculations for the validation set, we get an average loss value of approximately **53.306**.\n",
        "\n",
        "We can compare our values for the MSE, or the average squared loss, achieved by performing these calculations noted below:\n",
        "\n",
        "|       |Validation|Training|\n",
        "|-------|----------|--------|\n",
        "|**MSE**|53.306    |41.057  |\n",
        "\n",
        "These outcomes do seem to go with the general trend of how loss values differ between validation and training data sets retrieved in the manner done in this notebook. Since our sample size is smaller for our validation set than our training set, we can conclude that our model for the validation set would be *overfitting*, leading to the higher loss when compared to the training set. In order to fix this issue, a higher number of parameters would assist in \"focusing\" the data rather than relying on only one feature to attempt to make predictions.\n",
        "\n",
        "---\n",
        "#### 8. We will now repeat our experiments from steps 4, 6, and 7, but this time instead of analyzing just the single RM feature of our data, we will use all 13 features to place into our $X$ matrix and study the weights, predictions, and MSE values when using all parameters. We will perform all calculations and discuss data upon arriving at the major aspects.\n",
        "\n"
      ]
    },
    {
      "cell_type": "code",
      "metadata": {
        "colab": {
          "base_uri": "https://localhost:8080/"
        },
        "id": "BVNb3twF72dy",
        "outputId": "1a3d3fee-9753-4175-80c8-3c864bf5baba"
      },
      "source": [
        "# First, we compute w for the training set using all the features\n",
        "onesMatrix = np.ones_like(trainingTarget)\n",
        "trainingDataMatrix = np.hstack((onesMatrix, trainingFeatures))\n",
        "\n",
        "allTrainingTranspose = np.transpose(trainingDataMatrix)\n",
        "allTrainingMult = np.matmul(allTrainingTranspose, trainingDataMatrix)\n",
        "allTrainingMultInv = np.linalg.inv(allTrainingMult)\n",
        "\n",
        "allTrainingInvTimesTranspose = np.matmul(allTrainingMultInv, allTrainingTranspose)\n",
        "all_w = np.matmul(allTrainingInvTimesTranspose, trainingTarget)\n",
        "\n",
        "print(all_w)\n"
      ],
      "execution_count": 978,
      "outputs": [
        {
          "output_type": "stream",
          "text": [
            "[[ 3.19642409e+01]\n",
            " [-1.14552861e-01]\n",
            " [ 4.48932130e-02]\n",
            " [ 2.83755698e-02]\n",
            " [ 2.70909742e+00]\n",
            " [-1.67403672e+01]\n",
            " [ 4.11148209e+00]\n",
            " [-8.47905081e-04]\n",
            " [-1.38493905e+00]\n",
            " [ 3.21084569e-01]\n",
            " [-1.22497115e-02]\n",
            " [-9.12523500e-01]\n",
            " [ 1.02533638e-02]\n",
            " [-4.78414631e-01]]\n"
          ],
          "name": "stdout"
        }
      ]
    },
    {
      "cell_type": "markdown",
      "metadata": {
        "id": "AFe8HVOQP9sq"
      },
      "source": [
        "After obtaining our $w$ values, we see that we have enough to account for all the features and $w_0$. Therefore, the equation for MEDV as a linear function for all the features looks much longer:\n",
        "\n",
        "$t = f(x;w_0, w_1, w_2, w_3, ...,w_{13}) = w_0 + w_1x_1 + w_2x_2 + w_3x_3 + ... + w_{13}x_{13}$\n",
        "\n",
        "Now with our $w$ values, we continue onto experiment 6 of finding the prediction values and average loss.\n"
      ]
    },
    {
      "cell_type": "code",
      "metadata": {
        "colab": {
          "base_uri": "https://localhost:8080/"
        },
        "id": "hgVqOmfFf1Kl",
        "outputId": "54583509-0f11-415b-dc6b-b2cf85d9da08"
      },
      "source": [
        "# Create prediction matrix\n",
        "allTrainingPredictMatrix = []\n",
        "\n",
        "for data in trainingFeatures:\n",
        "  target = (all_w[0] + all_w[1]*data[0] + all_w[2]*data[1] + all_w[3]*data[2]\n",
        "            + all_w[4]*data[3] + all_w[5]*data[4] + all_w[6]*data[5]\n",
        "            + all_w[7]*data[6] + all_w[8]*data[7] + all_w[9]*data[8]\n",
        "            + all_w[10]*data[9] + all_w[11]*data[10] + all_w[12]*data[11]\n",
        "            + all_w[13]*data[12])\n",
        "  allTrainingPredictMatrix.append(target)\n",
        "allTrainingPredictMatrix = np.asarray(allTrainingPredictMatrix)\n",
        "\n",
        "# Compute loss\n",
        "allTrainingMultParams = np.matmul(trainingDataMatrix, all_w)\n",
        "targetMinusAllTrainingParams = np.subtract(trainingTarget, allTrainingMultParams)\n",
        "allTrainingLoss = (np.matmul(np.transpose(targetMinusAllTrainingParams), targetMinusAllTrainingParams))/404\n",
        "\n",
        "print('Average loss for entire training set: ', float(allTrainingLoss))\n"
      ],
      "execution_count": 979,
      "outputs": [
        {
          "output_type": "stream",
          "text": [
            "Average loss for entire training set:  21.807199582316603\n"
          ],
          "name": "stdout"
        }
      ]
    },
    {
      "cell_type": "markdown",
      "metadata": {
        "id": "OzXvkUkwlqN3"
      },
      "source": [
        "With our calculations, we see that the average loss $\\mathcal{L}$ for our training set consisting of all features of the data set results in approximately **21.807**\n",
        "\n",
        "Note the much lower value when compared to our previous training loss consisting of only one feature.\n",
        "\n",
        "We will now repeat these processes once more for our validation set comprising all features.\n"
      ]
    },
    {
      "cell_type": "code",
      "metadata": {
        "colab": {
          "base_uri": "https://localhost:8080/"
        },
        "id": "spBo6THVws1g",
        "outputId": "cee6bf17-bb86-401e-952f-5383cf248b7c"
      },
      "source": [
        "# Set up our matrices for the full validation data set\n",
        "onesMatrix = np.ones_like(validationTarget)\n",
        "validationFeaturesMatrix = np.hstack((onesMatrix, validationFeatures))\n",
        "\n",
        "# Calculate w for full validation set\n",
        "fullVTranspose = np.transpose(validationFeaturesMatrix)\n",
        "fullVMult = np.matmul(fullVTranspose, validationFeaturesMatrix)\n",
        "fullVMultInv = np.linalg.inv(fullVMult)\n",
        "\n",
        "fullVInvTimesTranspose = np.matmul(fullVMultInv, fullVTranspose)\n",
        "allv_w = np.matmul(fullVInvTimesTranspose, validationTarget)\n",
        "\n",
        "# Perform experiment 6 on the full validation data\n",
        "fullValidationPredictMatrix = []\n",
        "for data in validationFeatures:\n",
        "  item = (allv_w[0] + allv_w[1]*data[0] + allv_w[2]*data[1] + allv_w[3]*data[2]\n",
        "          + allv_w[4]*data[3] + allv_w[5]*data[4] + allv_w[6]*data[5]\n",
        "          + allv_w[7]*data[6] + allv_w[8]*data[7] + allv_w[9]*data[8]\n",
        "          + allv_w[10]*data[9] + allv_w[11]*data[10] + allv_w[12]*data[11]\n",
        "          + allv_w[13]*data[12])\n",
        "  fullValidationPredictMatrix.append(item)\n",
        "fullValidationPredictMatrix = np.asarray(fullValidationPredictMatrix)\n",
        "\n",
        "# Now we predict our loss for the entire validation features\n",
        "fullValidationMultParams = np.matmul(validationFeaturesMatrix, allv_w)\n",
        "fullVTargetMinusTrainingParams = np.subtract(validationTarget, fullValidationMultParams)\n",
        "fullValidationLoss = (np.matmul(np.transpose(fullVTargetMinusTrainingParams), fullVTargetMinusTrainingParams))/102\n",
        "\n",
        "print('Average loss for entire validation set: ', float(fullValidationLoss))\n"
      ],
      "execution_count": 980,
      "outputs": [
        {
          "output_type": "stream",
          "text": [
            "Average loss for entire validation set:  20.214148879815482\n"
          ],
          "name": "stdout"
        }
      ]
    },
    {
      "cell_type": "markdown",
      "metadata": {
        "id": "fVYRuE8H533S"
      },
      "source": [
        "Having completed the loss for the full-featured validation set, we now can look at our complete loss table.\n",
        "\n",
        "|              |Validation  |Training|\n",
        "|--------------|:----------:|:------:|\n",
        "|**MSE (RM)**  |53.306      |41.057  |\n",
        "|**MSE (Full)**|20.214      |21.807  |\n",
        "\n",
        "It's immediately apparent here that by applying our full set of features, our loss values drastically decrease. This makes sense, as we would expect a regression model to improve upon having more parameters to base predictions off of. Therefore, a smaller value closer to 0 is exactly what we would want from a model.\n",
        "\n",
        "However, an interesting note to make is that the new difference between our validation and training sets is flipped, where the former is slightly smaller than the latter. This is a good sign though, since the values are quite near each other. Since we have a slightly lower validation loss, that means we can assume that our model has a *good fit* for our predictions. This is likely due to the fact that, while higher polynomial regressions may lead to larger validation errors, we stuck to a single-order, linear model with ***13*** features to rely on for modeling. These features assist in providing factors to base our predictions off of.\n",
        "\n",
        "---\n",
        "#### 9. Before wrapping up our experiments, we will do one last observation. Using the same $w$ values we found in the previous experiment for our full-featured data set, we will grab an arbitray row from the validation set and another row from the training set to test on. For this step, we will attempt to increase each feature by 1 unit (one at a time) and see by how much the predicted median value changes from the original reported median (MEDV) value.\n"
      ]
    },
    {
      "cell_type": "code",
      "metadata": {
        "colab": {
          "base_uri": "https://localhost:8080/"
        },
        "id": "3BwXOaU8Qn_h",
        "outputId": "ab900eb6-2c4a-4d7f-82d8-f8e735626b54"
      },
      "source": [
        "# Extract 5 rows from data sets to test with\n",
        "validationFeaturesSample = np.split(validationFeatures, [20, 21])\n",
        "validationFeaturesSample = validationFeaturesSample[1]\n",
        "validationTargetSample = np.split(validationTarget, [20, 21])\n",
        "validationTargetSample = validationTargetSample[1]\n",
        "\n",
        "# Loop through each feature of row to perform tests\n",
        "featureCount = 0\n",
        "featureList = ['CRIM', 'ZN', 'INDUS', 'CHAS', 'NOX', 'RM', 'AGE', 'DIS', 'RAD',\n",
        "            'TAX', 'PTRATIO', 'B', 'LSTAT']\n",
        "\n",
        "for row in validationFeaturesSample:\n",
        "  for feature in row:\n",
        "    feature += 1\n",
        "    row[featureCount] = feature\n",
        "    prediction = (allv_w[0] + allv_w[1]*row[0] + allv_w[2]*row[1]\n",
        "                  + allv_w[3]*row[2] + allv_w[4]*row[3] + allv_w[5]*row[4]\n",
        "                  + allv_w[6]*row[5] + allv_w[7]*row[6] + allv_w[8]*row[7]\n",
        "                  + allv_w[9]*row[8] + allv_w[10]*row[9] + allv_w[11]*row[10]\n",
        "                  + allv_w[12]*row[11] + allv_w[13]*row[12])\n",
        "    print('\\nAfter increasing ', featureList[featureCount], ' by one, there is a',\n",
        "         (float(prediction - validationTargetSample))*1000, 'difference',\n",
        "         'between the predicted/actual MEDV feature.')\n",
        "    print('Prediction: $', round(float((prediction))*1000, 2),\n",
        "         '\\nActual: $', int((validationTargetSample)*1000))\n",
        "  \n",
        "    feature -= 1\n",
        "    row[featureCount] = feature\n",
        "    featureCount += 1\n"
      ],
      "execution_count": 981,
      "outputs": [
        {
          "output_type": "stream",
          "text": [
            "\n",
            "After increasing  CRIM  by one, there is a -13936.301961977122 difference between the predicted/actual MEDV feature.\n",
            "Prediction: $ 36063.7 \n",
            "Actual: $ 50000\n",
            "\n",
            "After increasing  ZN  by one, there is a -13793.686632629673 difference between the predicted/actual MEDV feature.\n",
            "Prediction: $ 36206.31 \n",
            "Actual: $ 50000\n",
            "\n",
            "After increasing  INDUS  by one, there is a -13877.657846793425 difference between the predicted/actual MEDV feature.\n",
            "Prediction: $ 36122.34 \n",
            "Actual: $ 50000\n",
            "\n",
            "After increasing  CHAS  by one, there is a -10418.137774632185 difference between the predicted/actual MEDV feature.\n",
            "Prediction: $ 39581.86 \n",
            "Actual: $ 50000\n",
            "\n",
            "After increasing  NOX  by one, there is a -33490.10591919415 difference between the predicted/actual MEDV feature.\n",
            "Prediction: $ 16509.89 \n",
            "Actual: $ 50000\n",
            "\n",
            "After increasing  RM  by one, there is a -11027.378371487515 difference between the predicted/actual MEDV feature.\n",
            "Prediction: $ 38972.62 \n",
            "Actual: $ 50000\n",
            "\n",
            "After increasing  AGE  by one, there is a -13834.157451571613 difference between the predicted/actual MEDV feature.\n",
            "Prediction: $ 36165.84 \n",
            "Actual: $ 50000\n",
            "\n",
            "After increasing  DIS  by one, there is a -15672.462256273817 difference between the predicted/actual MEDV feature.\n",
            "Prediction: $ 34327.54 \n",
            "Actual: $ 50000\n",
            "\n",
            "After increasing  RAD  by one, there is a -13591.133394674522 difference between the predicted/actual MEDV feature.\n",
            "Prediction: $ 36408.87 \n",
            "Actual: $ 50000\n",
            "\n",
            "After increasing  TAX  by one, there is a -13853.4400164176 difference between the predicted/actual MEDV feature.\n",
            "Prediction: $ 36146.56 \n",
            "Actual: $ 50000\n",
            "\n",
            "After increasing  PTRATIO  by one, there is a -14992.924999170995 difference between the predicted/actual MEDV feature.\n",
            "Prediction: $ 35007.08 \n",
            "Actual: $ 50000\n",
            "\n",
            "After increasing  B  by one, there is a -13833.581305842345 difference between the predicted/actual MEDV feature.\n",
            "Prediction: $ 36166.42 \n",
            "Actual: $ 50000\n",
            "\n",
            "After increasing  LSTAT  by one, there is a -14504.276988176784 difference between the predicted/actual MEDV feature.\n",
            "Prediction: $ 35495.72 \n",
            "Actual: $ 50000\n"
          ],
          "name": "stdout"
        }
      ]
    },
    {
      "cell_type": "markdown",
      "metadata": {
        "id": "6qEDGDHB6413"
      },
      "source": [
        "Those numbers were calculated for the validation data, now we test a row from the training set below."
      ]
    },
    {
      "cell_type": "code",
      "metadata": {
        "colab": {
          "base_uri": "https://localhost:8080/"
        },
        "id": "cxKjBJEx6rZi",
        "outputId": "c466786a-575e-4daa-cb70-812be8fd5003"
      },
      "source": [
        "trainingFeaturesSample = np.split(trainingFeatures, [20, 21])\n",
        "trainingFeaturesSample = trainingFeaturesSample[1]\n",
        "trainingTargetSample = np.split(trainingTarget, [20, 21])\n",
        "trainingTargetSample = trainingTargetSample[1]\n",
        "\n",
        "featureCount = 0\n",
        "\n",
        "for row in trainingFeaturesSample:\n",
        "  for feature in row:\n",
        "    feature += 1\n",
        "    row[featureCount] = feature\n",
        "    prediction = (allv_w[0] + allv_w[1]*row[0] + allv_w[2]*row[1]\n",
        "                  + allv_w[3]*row[2] + allv_w[4]*row[3] + allv_w[5]*row[4]\n",
        "                  + allv_w[6]*row[5] + allv_w[7]*row[6] + allv_w[8]*row[7]\n",
        "                  + allv_w[9]*row[8] + allv_w[10]*row[9] + allv_w[11]*row[10]\n",
        "                  + allv_w[12]*row[11] + allv_w[13]*row[12])\n",
        "    print('\\nAfter increasing ', featureList[featureCount], ' by one, there is a',\n",
        "         (float(prediction - trainingTargetSample))*1000, 'difference',\n",
        "         'between the predicted/actual MEDV feature.')\n",
        "    print('Prediction: $', round(float((prediction))*1000, 2),\n",
        "         '\\nActual: $', int((trainingTargetSample)*1000))\n",
        "  \n",
        "    feature -= 1\n",
        "    row[featureCount] = feature\n",
        "    featureCount += 1\n"
      ],
      "execution_count": 982,
      "outputs": [
        {
          "output_type": "stream",
          "text": [
            "\n",
            "After increasing  CRIM  by one, there is a 79.1797376783343 difference between the predicted/actual MEDV feature.\n",
            "Prediction: $ 27179.18 \n",
            "Actual: $ 27100\n",
            "\n",
            "After increasing  ZN  by one, there is a 221.79506702577 difference between the predicted/actual MEDV feature.\n",
            "Prediction: $ 27321.8 \n",
            "Actual: $ 27100\n",
            "\n",
            "After increasing  INDUS  by one, there is a 137.8238528620308 difference between the predicted/actual MEDV feature.\n",
            "Prediction: $ 27237.82 \n",
            "Actual: $ 27100\n",
            "\n",
            "After increasing  CHAS  by one, there is a 3597.343925023257 difference between the predicted/actual MEDV feature.\n",
            "Prediction: $ 30697.34 \n",
            "Actual: $ 27100\n",
            "\n",
            "After increasing  NOX  by one, there is a -19474.624219538702 difference between the predicted/actual MEDV feature.\n",
            "Prediction: $ 7625.38 \n",
            "Actual: $ 27100\n",
            "\n",
            "After increasing  RM  by one, there is a 2988.1033281679415 difference between the predicted/actual MEDV feature.\n",
            "Prediction: $ 30088.1 \n",
            "Actual: $ 27100\n",
            "\n",
            "After increasing  AGE  by one, there is a 181.3242480838433 difference between the predicted/actual MEDV feature.\n",
            "Prediction: $ 27281.32 \n",
            "Actual: $ 27100\n",
            "\n",
            "After increasing  DIS  by one, there is a -1656.9805566183718 difference between the predicted/actual MEDV feature.\n",
            "Prediction: $ 25443.02 \n",
            "Actual: $ 27100\n",
            "\n",
            "After increasing  RAD  by one, there is a 424.3483049809349 difference between the predicted/actual MEDV feature.\n",
            "Prediction: $ 27524.35 \n",
            "Actual: $ 27100\n",
            "\n",
            "After increasing  TAX  by one, there is a 162.04168323785595 difference between the predicted/actual MEDV feature.\n",
            "Prediction: $ 27262.04 \n",
            "Actual: $ 27100\n",
            "\n",
            "After increasing  PTRATIO  by one, there is a -977.4432995155387 difference between the predicted/actual MEDV feature.\n",
            "Prediction: $ 26122.56 \n",
            "Actual: $ 27100\n",
            "\n",
            "After increasing  B  by one, there is a 181.90039381311252 difference between the predicted/actual MEDV feature.\n",
            "Prediction: $ 27281.9 \n",
            "Actual: $ 27100\n",
            "\n",
            "After increasing  LSTAT  by one, there is a -488.79528852133444 difference between the predicted/actual MEDV feature.\n",
            "Prediction: $ 26611.2 \n",
            "Actual: $ 27100\n"
          ],
          "name": "stdout"
        }
      ]
    },
    {
      "cell_type": "markdown",
      "metadata": {
        "id": "AXz9nTHC8RcO"
      },
      "source": [
        "#### 10. We bring all our work to a close by observing the difference in a house's valuation after manipulating our various features. While our validation data set provides interesting insight, perhaps the training set provides the most valuable insight.\n",
        "\n",
        "Selecting our Top 3 features with the highest prediction per unit increase, we have the following:\n",
        "\n",
        "|Feature|Predicted MEDV|Actual MEDV|$ Diff. |% Diff. |\n",
        "|:------|:------------:|:---------:|:------:|-------:|\n",
        "|CHAS   |30,697.34     |27,100     |3,597.34|12.45   |\n",
        "|RM     |30,088.10     |27,100     |2,988.10|10.45   |\n",
        "|RAD    |27,524.35     |27,100     |424.35  |1.55    |\n",
        "\n",
        "So, as many may predict, the number of rooms in a house definitely plays a large role in determing the value of a home in the Boston area. However, it surprisingly did not play as large of a role as the CHAS feature did. CHAS is represented as a \"dummy variable\" in the original data collection, representing the proximity of a house to the Charles River (1 being bounded by the river, 0 is not).\n"
      ]
    },
    {
      "cell_type": "markdown",
      "metadata": {
        "id": "YwmydGtDC1-N"
      },
      "source": [
        "# Summary and Conclusion\n",
        "\n",
        "With the various experiments and modeling performed, it is safe to conclude that the more features given to work with, the better a prediction can be made to determine a house's pricing. However, it may be a bit too presumptious to claim that the CHAS feature from our data set is the primary indicator of a house's value. Since we only tested a portion of the data and implemented a uniform modification to the features (increase of 1 unit vs. varied increases depending on feature), perhaps it would be best to run more tests to safely make a valuation on Boston's most important feature for house valuation.\n",
        "\n",
        "Nevertheless, this notebook demonstrates the impressive predictions and valuable insight that linear and polynomial regression modeling may bring to a given collection of data."
      ]
    }
  ]
}